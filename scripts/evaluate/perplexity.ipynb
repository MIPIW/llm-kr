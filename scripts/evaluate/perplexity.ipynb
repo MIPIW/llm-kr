{
 "cells": [
  {
   "cell_type": "code",
   "execution_count": 1,
   "metadata": {},
   "outputs": [
    {
     "name": "stderr",
     "output_type": "stream",
     "text": [
      "/home/hyohyeongjang/.conda/envs/hyohyeongjang_base/lib/python3.9/site-packages/transformers/models/auto/tokenization_auto.py:785: FutureWarning: The `use_auth_token` argument is deprecated and will be removed in v5 of Transformers. Please use `token` instead.\n",
      "  warnings.warn(\n",
      "/home/hyohyeongjang/.conda/envs/hyohyeongjang_base/lib/python3.9/site-packages/transformers/models/auto/configuration_auto.py:957: FutureWarning: The `use_auth_token` argument is deprecated and will be removed in v5 of Transformers. Please use `token` instead.\n",
      "  warnings.warn(\n",
      "/home/hyohyeongjang/.conda/envs/hyohyeongjang_base/lib/python3.9/site-packages/transformers/models/auto/auto_factory.py:469: FutureWarning: The `use_auth_token` argument is deprecated and will be removed in v5 of Transformers. Please use `token` instead.\n",
      "  warnings.warn(\n"
     ]
    },
    {
     "data": {
      "application/vnd.jupyter.widget-view+json": {
       "model_id": "bba5f057f1664b35948b08f4467c016e",
       "version_major": 2,
       "version_minor": 0
      },
      "text/plain": [
       "Loading checkpoint shards:   0%|          | 0/4 [00:00<?, ?it/s]"
      ]
     },
     "metadata": {},
     "output_type": "display_data"
    }
   ],
   "source": [
    "import lmppl\n",
    "import pandas as pd, numpy as np\n",
    "from transformers import AutoTokenizer\n",
    "\n",
    "checkpoint = \"meta-llama/Meta-Llama-3-8B-Instruct\"\n",
    "scorer = lmppl.LM(checkpoint)\n",
    "# scorer = lmppl.LM(\"Qwen/Qwen2-7B-Instruct\")\n",
    "# scorer = lmppl.LM(\"google/gemma-2-9b-it\")"
   ]
  },
  {
   "cell_type": "code",
   "execution_count": 2,
   "metadata": {},
   "outputs": [
    {
     "name": "stderr",
     "output_type": "stream",
     "text": [
      "/tmp/ipykernel_224182/1090207392.py:51: DtypeWarning: Columns (1,4) have mixed types. Specify dtype option on import or set low_memory=False.\n",
      "  self.train_df = pd.read_csv(train_url)\n"
     ]
    }
   ],
   "source": [
    "class FormattingFunction:\n",
    "    def __init__(self, model_checkpoint):\n",
    "        self.instruction_all = {\n",
    "            \"meta-llama/Meta-Llama-3-8B-Instruct\": \"\"\"\n",
    "        <|begin_of_text|>\n",
    "        <|start_header_id|>system<|end_header_id|>\n",
    "        당신의 역할은 한국어로 답변하는 **한국어 AI 어시트턴트**입니다. 주어진 질문에 대해 한국어로 답변해주세요.<|eot_id|>\n",
    "        <|start_header_id|>user<|end_header_id|>\n",
    "        아래 질문을 한국어로 정확하게 답변해주세요. **질문**: {}<|eot_id|>\n",
    "        <|start_header_id|>assistant<|end_header_id|>\\n\\n{}<|eot_id|>\n",
    "        <|end_of_text|>\"\"\",\n",
    "            \"google/gemma-2-9b-it\": \"\"\"\n",
    "        <bos><start_of_turn>model\n",
    "        당신의 역할은 한국어로 답변하는 **한국어 AI 어시트턴트**입니다. 주어진 질문에 대해 한국어로 답변해주세요.<end_of_turn>\n",
    "        <start_of_turn>user\n",
    "        아래 질문을 한국어로 정확하게 답변해주세요. **질문**: {}<end_of_turn>\n",
    "        <start_of_turn>model\n",
    "        {}<end_of_turn>\n",
    "        <eos>\"\"\",\n",
    "            \"Qwen/Qwen2-7B-Instruct\": \"\"\"\n",
    "        <|im_start|>system\n",
    "        당신의 역할은 한국어로 답변하는 **한국어 AI 어시트턴트**입니다. 주어진 질문에 대해 한국어로 답변해주세요.\\n<|im_end|>\n",
    "        <|im_start|>user\n",
    "        아래 질문을 한국어로 정확하게 답변해주세요. **질문**: {}<|im_end|>\n",
    "        <|im_start|>system\n",
    "        {}<|im_end|>\n",
    "        <|endoftext|>\"\"\",\n",
    "        }\n",
    "\n",
    "        self.instruction = self.instruction_all[model_checkpoint]\n",
    "\n",
    "    def __call__(self, examples):\n",
    "\n",
    "        final_texts = []\n",
    "        for i in range(len(examples[\"input\"])):\n",
    "            final_text = self.instruction.format(\n",
    "                examples[\"input\"][i], examples[\"output\"][i]\n",
    "            )\n",
    "            final_texts.append(final_text)\n",
    "\n",
    "        return final_texts\n",
    "\n",
    "\n",
    "class DataBase:\n",
    "    def __init__(self):\n",
    "        train_url = \"/node_storage2/data_llm_kr/data_it_train_240724.csv\"\n",
    "        eval_url = \"/node_storage2/data_llm_kr/data_it_eval_240724.csv\"\n",
    "\n",
    "        eval_translate_url = \"/home/hyohyeongjang/bigdata/ModelTrainer/llm-kr/data/oig-smallchip2-dedu-slice_reviewed_week1-7_instruction_valid.csv\"\n",
    "\n",
    "        self.train_df = pd.read_csv(train_url)\n",
    "        self.eval_df = pd.read_csv(eval_url)\n",
    "        self.eval_translate = pd.read_csv(eval_translate_url)\n",
    "\n",
    "\n",
    "d = DataBase()\n",
    "f = FormattingFunction(checkpoint)"
   ]
  },
  {
   "cell_type": "code",
   "execution_count": 3,
   "metadata": {},
   "outputs": [],
   "source": [
    "def count_tokens(sentences):\n",
    "    target = sentences.apply(lambda x: f\"{x['input']} {x['output']}\", axis=1).tolist()\n",
    "\n",
    "    checkpoint = \"meta-llama/Meta-Llama-3-8B-Instruct\"\n",
    "    tokenizer = AutoTokenizer.from_pretrained(checkpoint)\n",
    "    out_llama = tokenizer(target)\n",
    "    out_llama = pd.Series([len(i) for i in out_llama[\"input_ids\"]], name=\"llama_token\")\n",
    "\n",
    "    checkpoint = \"Qwen/Qwen2-7B-Instruct\"\n",
    "    tokenizer = AutoTokenizer.from_pretrained(checkpoint)\n",
    "    out_qwen = tokenizer(target)\n",
    "    out_qwen = pd.Series([len(i) for i in out_qwen[\"input_ids\"]], name=\"qwen_token\")\n",
    "\n",
    "    checkpoint = \"google/gemma-2-9b-it\"\n",
    "    tokenizer = AutoTokenizer.from_pretrained(checkpoint)\n",
    "    out_gemma = tokenizer(target)\n",
    "    out_gemma = pd.Series([len(i) for i in out_gemma[\"input_ids\"]], name=\"gemma_token\")\n",
    "\n",
    "    x = pd.concat([sentences, out_llama, out_qwen, out_gemma], axis=1)\n",
    "    x.groupby(\"task\")[[\"llama_token\", \"qwen_token\", \"gemma_token\"]].agg(\n",
    "        [\"mean\", \"max\", \"min\"]\n",
    "    ).round(1)\n",
    "\n",
    "    return x\n",
    "\n",
    "\n",
    "def get_perplexity(sentences, checkpoint_type, sample=True, sample_num=100):\n",
    "\n",
    "    # sentences = d.train_df\n",
    "    if sample:\n",
    "        samples = (\n",
    "            sentences[[\"input\", \"output\", \"task\"]]\n",
    "            .groupby(\"task\")\n",
    "            .sample(sample_num, random_state=21)\n",
    "            .reset_index(drop=True)\n",
    "        )\n",
    "    else:\n",
    "        samples = sentences\n",
    "\n",
    "    # samples = sentences\n",
    "    targets = f(samples)\n",
    "\n",
    "    ppl = np.array(scorer.get_perplexity(targets, batch=8)).round(2)\n",
    "    x = pd.concat([samples, pd.Series(ppl, name=checkpoint_type)], axis=1)\n",
    "    x.groupby(\"task\")[checkpoint_type].mean()\n",
    "\n",
    "    return x"
   ]
  },
  {
   "cell_type": "code",
   "execution_count": 4,
   "metadata": {},
   "outputs": [
    {
     "name": "stderr",
     "output_type": "stream",
     "text": [
      "  0%|                                 | 0/63 [00:00<?, ?it/s]Asking to truncate to max_length but no maximum length is provided and the model has no predefined maximum length. Default to no truncation.\n",
      "We detected that you are passing `past_key_values` as a tuple and this is deprecated and will be removed in v4.43. Please use an appropriate `Cache` class (https://huggingface.co/docs/transformers/v4.41.3/en/internal/generation_utils#transformers.Cache)\n",
      "100%|████████████████████████| 63/63 [07:30<00:00,  7.15s/it]\n"
     ]
    },
    {
     "ename": "KeyError",
     "evalue": "'Column not found: 0'",
     "output_type": "error",
     "traceback": [
      "\u001b[0;31m---------------------------------------------------------------------------\u001b[0m",
      "\u001b[0;31mKeyError\u001b[0m                                  Traceback (most recent call last)",
      "Cell \u001b[0;32mIn[4], line 31\u001b[0m\n\u001b[1;32m     16\u001b[0m sentences \u001b[38;5;241m=\u001b[39m d\u001b[38;5;241m.\u001b[39mtrain_df[d\u001b[38;5;241m.\u001b[39mtrain_df\u001b[38;5;241m.\u001b[39mtask\u001b[38;5;241m.\u001b[39mmap(\u001b[38;5;28;01mlambda\u001b[39;00m x: x \u001b[38;5;129;01min\u001b[39;00m this_task)]\n\u001b[1;32m     17\u001b[0m \u001b[38;5;66;03m# sentences = d.train_df.loc[\u001b[39;00m\n\u001b[1;32m     18\u001b[0m \u001b[38;5;66;03m#     d.train_df.task.map(\u001b[39;00m\n\u001b[1;32m     19\u001b[0m \u001b[38;5;66;03m#         lambda x: x\u001b[39;00m\n\u001b[0;32m   (...)\u001b[0m\n\u001b[1;32m     28\u001b[0m \u001b[38;5;66;03m#     )\u001b[39;00m\n\u001b[1;32m     29\u001b[0m \u001b[38;5;66;03m# ].reset_index(drop=True)\u001b[39;00m\n\u001b[0;32m---> 31\u001b[0m ppl_out \u001b[38;5;241m=\u001b[39m \u001b[43mget_perplexity\u001b[49m\u001b[43m(\u001b[49m\u001b[43msentences\u001b[49m\u001b[43m,\u001b[49m\u001b[43m \u001b[49m\u001b[43mcheckpoint_type\u001b[49m\u001b[38;5;241;43m=\u001b[39;49m\u001b[38;5;124;43m\"\u001b[39;49m\u001b[38;5;124;43mllama_ppl\u001b[39;49m\u001b[38;5;124;43m\"\u001b[39;49m\u001b[43m)\u001b[49m\n\u001b[1;32m     32\u001b[0m ppl_lst\u001b[38;5;241m.\u001b[39mappend(ppl_out)\n",
      "Cell \u001b[0;32mIn[3], line 45\u001b[0m, in \u001b[0;36mget_perplexity\u001b[0;34m(sentences, checkpoint_type, sample, sample_num)\u001b[0m\n\u001b[1;32m     43\u001b[0m ppl \u001b[38;5;241m=\u001b[39m np\u001b[38;5;241m.\u001b[39marray(scorer\u001b[38;5;241m.\u001b[39mget_perplexity(targets, batch\u001b[38;5;241m=\u001b[39m\u001b[38;5;241m8\u001b[39m))\u001b[38;5;241m.\u001b[39mround(\u001b[38;5;241m2\u001b[39m)\n\u001b[1;32m     44\u001b[0m x \u001b[38;5;241m=\u001b[39m pd\u001b[38;5;241m.\u001b[39mconcat([samples, pd\u001b[38;5;241m.\u001b[39mSeries(ppl, name\u001b[38;5;241m=\u001b[39mcheckpoint_type)], axis\u001b[38;5;241m=\u001b[39m\u001b[38;5;241m1\u001b[39m)\n\u001b[0;32m---> 45\u001b[0m \u001b[43mx\u001b[49m\u001b[38;5;241;43m.\u001b[39;49m\u001b[43mgroupby\u001b[49m\u001b[43m(\u001b[49m\u001b[38;5;124;43m\"\u001b[39;49m\u001b[38;5;124;43mtask\u001b[39;49m\u001b[38;5;124;43m\"\u001b[39;49m\u001b[43m)\u001b[49m\u001b[43m[\u001b[49m\u001b[38;5;241;43m0\u001b[39;49m\u001b[43m]\u001b[49m\u001b[38;5;241m.\u001b[39mmean()\n\u001b[1;32m     47\u001b[0m \u001b[38;5;28;01mreturn\u001b[39;00m x\n",
      "File \u001b[0;32m~/.conda/envs/hyohyeongjang_base/lib/python3.9/site-packages/pandas/core/groupby/generic.py:1951\u001b[0m, in \u001b[0;36mDataFrameGroupBy.__getitem__\u001b[0;34m(self, key)\u001b[0m\n\u001b[1;32m   1944\u001b[0m \u001b[38;5;28;01mif\u001b[39;00m \u001b[38;5;28misinstance\u001b[39m(key, \u001b[38;5;28mtuple\u001b[39m) \u001b[38;5;129;01mand\u001b[39;00m \u001b[38;5;28mlen\u001b[39m(key) \u001b[38;5;241m>\u001b[39m \u001b[38;5;241m1\u001b[39m:\n\u001b[1;32m   1945\u001b[0m     \u001b[38;5;66;03m# if len == 1, then it becomes a SeriesGroupBy and this is actually\u001b[39;00m\n\u001b[1;32m   1946\u001b[0m     \u001b[38;5;66;03m# valid syntax, so don't raise\u001b[39;00m\n\u001b[1;32m   1947\u001b[0m     \u001b[38;5;28;01mraise\u001b[39;00m \u001b[38;5;167;01mValueError\u001b[39;00m(\n\u001b[1;32m   1948\u001b[0m         \u001b[38;5;124m\"\u001b[39m\u001b[38;5;124mCannot subset columns with a tuple with more than one element. \u001b[39m\u001b[38;5;124m\"\u001b[39m\n\u001b[1;32m   1949\u001b[0m         \u001b[38;5;124m\"\u001b[39m\u001b[38;5;124mUse a list instead.\u001b[39m\u001b[38;5;124m\"\u001b[39m\n\u001b[1;32m   1950\u001b[0m     )\n\u001b[0;32m-> 1951\u001b[0m \u001b[38;5;28;01mreturn\u001b[39;00m \u001b[38;5;28;43msuper\u001b[39;49m\u001b[43m(\u001b[49m\u001b[43m)\u001b[49m\u001b[38;5;241;43m.\u001b[39;49m\u001b[38;5;21;43m__getitem__\u001b[39;49m\u001b[43m(\u001b[49m\u001b[43mkey\u001b[49m\u001b[43m)\u001b[49m\n",
      "File \u001b[0;32m~/.conda/envs/hyohyeongjang_base/lib/python3.9/site-packages/pandas/core/base.py:244\u001b[0m, in \u001b[0;36mSelectionMixin.__getitem__\u001b[0;34m(self, key)\u001b[0m\n\u001b[1;32m    242\u001b[0m \u001b[38;5;28;01melse\u001b[39;00m:\n\u001b[1;32m    243\u001b[0m     \u001b[38;5;28;01mif\u001b[39;00m key \u001b[38;5;129;01mnot\u001b[39;00m \u001b[38;5;129;01min\u001b[39;00m \u001b[38;5;28mself\u001b[39m\u001b[38;5;241m.\u001b[39mobj:\n\u001b[0;32m--> 244\u001b[0m         \u001b[38;5;28;01mraise\u001b[39;00m \u001b[38;5;167;01mKeyError\u001b[39;00m(\u001b[38;5;124mf\u001b[39m\u001b[38;5;124m\"\u001b[39m\u001b[38;5;124mColumn not found: \u001b[39m\u001b[38;5;132;01m{\u001b[39;00mkey\u001b[38;5;132;01m}\u001b[39;00m\u001b[38;5;124m\"\u001b[39m)\n\u001b[1;32m    245\u001b[0m     ndim \u001b[38;5;241m=\u001b[39m \u001b[38;5;28mself\u001b[39m\u001b[38;5;241m.\u001b[39mobj[key]\u001b[38;5;241m.\u001b[39mndim\n\u001b[1;32m    246\u001b[0m     \u001b[38;5;28;01mreturn\u001b[39;00m \u001b[38;5;28mself\u001b[39m\u001b[38;5;241m.\u001b[39m_gotitem(key, ndim\u001b[38;5;241m=\u001b[39mndim)\n",
      "\u001b[0;31mKeyError\u001b[0m: 'Column not found: 0'"
     ]
    }
   ],
   "source": [
    "if __name__ == \"__main__\":\n",
    "\n",
    "    # count_tokens(d.train_df).to_csv(\"/home/hyohyeongjang/bigdata/ModelTrainer/llm-kr/data/token_stat.csv\")\n",
    "\n",
    "    tasks = d.train_df.task.drop_duplicates().tolist()\n",
    "\n",
    "    partial_task = len(tasks) // 5\n",
    "\n",
    "    ppl_lst = []\n",
    "    for i in range(5):\n",
    "        if i == 4:\n",
    "            this_task = tasks[i * partial_task :]\n",
    "        else:\n",
    "            this_task = tasks[i * partial_task : (i + 1) * partial_task]\n",
    "\n",
    "        sentences = d.train_df[d.train_df.task.map(lambda x: x in this_task)]\n",
    "        # sentences = d.train_df.loc[\n",
    "        #     d.train_df.task.map(\n",
    "        #         lambda x: x\n",
    "        #         in [\n",
    "        #             \"doosan_253717\",\n",
    "        #             \"gen_argument\",\n",
    "        #             \"gen_news_classification\",\n",
    "        #             \"gen_sentiment_classification\",\n",
    "        #             \"gen_sts_classification\",\n",
    "        #             \"med_translation\",\n",
    "        #         ]\n",
    "        #     )\n",
    "        # ].reset_index(drop=True)\n",
    "\n",
    "        ppl_out = get_perplexity(sentences, checkpoint_type=\"llama_ppl\")\n",
    "        ppl_lst.append(ppl_out)"
   ]
  },
  {
   "cell_type": "code",
   "execution_count": null,
   "metadata": {},
   "outputs": [],
   "source": [
    "import torch\n",
    "\n",
    "torch.cuda.empty_cache()"
   ]
  },
  {
   "cell_type": "code",
   "execution_count": null,
   "metadata": {},
   "outputs": [],
   "source": []
  },
  {
   "cell_type": "code",
   "execution_count": null,
   "metadata": {},
   "outputs": [],
   "source": []
  },
  {
   "cell_type": "code",
   "execution_count": null,
   "metadata": {},
   "outputs": [],
   "source": []
  },
  {
   "cell_type": "code",
   "execution_count": null,
   "metadata": {},
   "outputs": [],
   "source": []
  }
 ],
 "metadata": {
  "kernelspec": {
   "display_name": "base",
   "language": "python",
   "name": "base"
  },
  "language_info": {
   "codemirror_mode": {
    "name": "ipython",
    "version": 3
   },
   "file_extension": ".py",
   "mimetype": "text/x-python",
   "name": "python",
   "nbconvert_exporter": "python",
   "pygments_lexer": "ipython3",
   "version": "3.9.18"
  }
 },
 "nbformat": 4,
 "nbformat_minor": 2
}
